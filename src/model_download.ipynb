{
 "cells": [
  {
   "cell_type": "markdown",
   "metadata": {},
   "source": [
    "## Download the model (google/vit-base-patch16-224)\n"
   ]
  },
  {
   "cell_type": "code",
   "execution_count": 5,
   "metadata": {},
   "outputs": [
    {
     "name": "stderr",
     "output_type": "stream",
     "text": [
      "2025-06-22 14:24:24,957 - INFO - Initialized downloader for model: google/vit-base-patch16-224\n",
      "2025-06-22 14:24:24,964 - INFO - Target directory: /Volumes/KODAK/folder 02/Brest_cancer_prediction/model/raw_model\n",
      "2025-06-22 14:24:24,966 - INFO - Starting complete model download process...\n"
     ]
    },
    {
     "data": {
      "application/vnd.jupyter.widget-view+json": {
       "model_id": "2717a4dbc63d4f228eb0e61a6f1a83c5",
       "version_major": 2,
       "version_minor": 0
      },
      "text/plain": [
       "config.json:   0%|          | 0.00/69.7k [00:00<?, ?B/s]"
      ]
     },
     "metadata": {},
     "output_type": "display_data"
    },
    {
     "name": "stderr",
     "output_type": "stream",
     "text": [
      "2025-06-22 14:24:26,000 - INFO - Model google/vit-base-patch16-224 validated successfully\n",
      "2025-06-22 14:24:26,001 - INFO - Starting complete model download...\n"
     ]
    },
    {
     "data": {
      "application/vnd.jupyter.widget-view+json": {
       "model_id": "5dcbce026bf34864b9e271317cd04491",
       "version_major": 2,
       "version_minor": 0
      },
      "text/plain": [
       "Fetching 8 files:   0%|          | 0/8 [00:00<?, ?it/s]"
      ]
     },
     "metadata": {},
     "output_type": "display_data"
    },
    {
     "name": "stderr",
     "output_type": "stream",
     "text": [
      "/Volumes/KODAK/folder 02/Brest_cancer_prediction/venv/lib/python3.12/site-packages/huggingface_hub/file_download.py:980: UserWarning: `local_dir_use_symlinks` parameter is deprecated and will be ignored. The process to download files to a local folder has been updated and do not rely on symlinks anymore. You only need to pass a destination folder as`local_dir`.\n",
      "For more details, check out https://huggingface.co/docs/huggingface_hub/main/en/guides/download#download-files-to-local-folder.\n",
      "  warnings.warn(\n",
      "/Volumes/KODAK/folder 02/Brest_cancer_prediction/venv/lib/python3.12/site-packages/huggingface_hub/file_download.py:943: FutureWarning: `resume_download` is deprecated and will be removed in version 1.0.0. Downloads always resume when possible. If you want to force a new download, use `force_download=True`.\n",
      "  warnings.warn(\n"
     ]
    },
    {
     "data": {
      "application/vnd.jupyter.widget-view+json": {
       "model_id": "704fb79d89224ffd801c4478e914ac70",
       "version_major": 2,
       "version_minor": 0
      },
      "text/plain": [
       "README.md:   0%|          | 0.00/5.69k [00:00<?, ?B/s]"
      ]
     },
     "metadata": {},
     "output_type": "display_data"
    },
    {
     "data": {
      "application/vnd.jupyter.widget-view+json": {
       "model_id": "18e9dccd36504f788eba8583349fac52",
       "version_major": 2,
       "version_minor": 0
      },
      "text/plain": [
       "tf_model.h5:   0%|          | 0.00/347M [00:00<?, ?B/s]"
      ]
     },
     "metadata": {},
     "output_type": "display_data"
    },
    {
     "data": {
      "application/vnd.jupyter.widget-view+json": {
       "model_id": "a8650b2ee04040deb8c2f37d5aa76306",
       "version_major": 2,
       "version_minor": 0
      },
      "text/plain": [
       "model.safetensors:   0%|          | 0.00/346M [00:00<?, ?B/s]"
      ]
     },
     "metadata": {},
     "output_type": "display_data"
    },
    {
     "data": {
      "application/vnd.jupyter.widget-view+json": {
       "model_id": "fd68c949238140b49d7297d5a90826c7",
       "version_major": 2,
       "version_minor": 0
      },
      "text/plain": [
       ".gitattributes:   0%|          | 0.00/744 [00:00<?, ?B/s]"
      ]
     },
     "metadata": {},
     "output_type": "display_data"
    },
    {
     "data": {
      "application/vnd.jupyter.widget-view+json": {
       "model_id": "483168dcbbdb4d3d879e029bc7aab1d6",
       "version_major": 2,
       "version_minor": 0
      },
      "text/plain": [
       "flax_model.msgpack:   0%|          | 0.00/346M [00:00<?, ?B/s]"
      ]
     },
     "metadata": {},
     "output_type": "display_data"
    },
    {
     "data": {
      "application/vnd.jupyter.widget-view+json": {
       "model_id": "f72b6f7094d747b2a25d66b24b845f33",
       "version_major": 2,
       "version_minor": 0
      },
      "text/plain": [
       "pytorch_model.bin:   0%|          | 0.00/346M [00:00<?, ?B/s]"
      ]
     },
     "metadata": {},
     "output_type": "display_data"
    },
    {
     "data": {
      "application/vnd.jupyter.widget-view+json": {
       "model_id": "a4501175f2c34e10846cc0798d42f8b1",
       "version_major": 2,
       "version_minor": 0
      },
      "text/plain": [
       "preprocessor_config.json:   0%|          | 0.00/160 [00:00<?, ?B/s]"
      ]
     },
     "metadata": {},
     "output_type": "display_data"
    },
    {
     "name": "stderr",
     "output_type": "stream",
     "text": [
      "2025-06-22 14:40:27,893 - INFO - Model downloaded successfully to: /Volumes/KODAK/folder 02/Brest_cancer_prediction/model/raw_model\n",
      "2025-06-22 14:40:27,903 - INFO - Required file found: config.json\n",
      "2025-06-22 14:40:27,911 - INFO - Required file found: preprocessor_config.json\n",
      "2025-06-22 14:40:27,916 - INFO - Model file found: pytorch_model.bin\n",
      "2025-06-22 14:40:27,960 - INFO - Optional file found: README.md\n",
      "2025-06-22 14:40:27,962 - INFO - Testing model loading...\n",
      "2025-06-22 14:40:27,988 - INFO - Model config loaded: 1000 classes\n",
      "2025-06-22 14:40:28,003 - INFO - Image processor loaded successfully\n",
      "2025-06-22 14:40:28,929 - INFO - Model loaded successfully: ViTForImageClassification\n",
      "2025-06-22 14:40:29,106 - INFO - Model forward pass successful: output shape torch.Size([1, 1000])\n",
      "2025-06-22 14:40:29,111 - INFO - Download information saved to: /Volumes/KODAK/folder 02/Brest_cancer_prediction/model/raw_model/download_info.json\n",
      "2025-06-22 14:40:29,111 - INFO - Complete model download process finished successfully\n",
      "2025-06-22 14:40:29,111 - INFO - Model ready for fine-tuning at: /Volumes/KODAK/folder 02/Brest_cancer_prediction/model/raw_model\n"
     ]
    },
    {
     "name": "stdout",
     "output_type": "stream",
     "text": [
      "SUCCESS: Model google/vit-base-patch16-224 downloaded and validated successfully\n",
      "Location: /Volumes/KODAK/folder 02/Brest_cancer_prediction/model/raw_model\n",
      "Model is ready for fine-tuning process\n"
     ]
    },
    {
     "ename": "",
     "evalue": "",
     "output_type": "error",
     "traceback": [
      "\u001b[1;31mThe Kernel crashed while executing code in the current cell or a previous cell. \n",
      "\u001b[1;31mPlease review the code in the cell(s) to identify a possible cause of the failure. \n",
      "\u001b[1;31mClick <a href='https://aka.ms/vscodeJupyterKernelCrash'>here</a> for more info. \n",
      "\u001b[1;31mView Jupyter <a href='command:jupyter.viewOutput'>log</a> for further details."
     ]
    }
   ],
   "source": [
    "\"\"\"\n",
    "Hugging Face Model Downloader for Fine-tuning\n",
    "Downloads google/vit-base-patch16-224 model with all required files\n",
    "\"\"\"\n",
    "\n",
    "import os\n",
    "import sys\n",
    "import logging\n",
    "from pathlib import Path\n",
    "from typing import Optional, Dict, Any\n",
    "import json\n",
    "from datetime import datetime\n",
    "\n",
    "try:\n",
    "    from huggingface_hub import snapshot_download, hf_hub_download, login\n",
    "    from transformers import ViTImageProcessor, ViTForImageClassification, ViTConfig\n",
    "    import torch\n",
    "except ImportError as e:\n",
    "    print(f\"Missing required packages: {e}\")\n",
    "    print(\"Please install: pip install transformers huggingface-hub torch\")\n",
    "    sys.exit(1)\n",
    "\n",
    "# Configure logging\n",
    "logging.basicConfig(\n",
    "    level=logging.INFO,\n",
    "    format='%(asctime)s - %(levelname)s - %(message)s'\n",
    ")\n",
    "logger = logging.getLogger(__name__)\n",
    "\n",
    "class HuggingFaceModelDownloader:\n",
    "    \"\"\"\n",
    "    Professional Hugging Face model downloader with comprehensive error handling\n",
    "    and validation for fine-tuning preparation.\n",
    "    \"\"\"\n",
    "    \n",
    "    def __init__(self, model_name: str, save_path: str, use_auth_token: bool = False):\n",
    "        \"\"\"\n",
    "        Initialize the model downloader.\n",
    "        \n",
    "        Args:\n",
    "            model_name: HuggingFace model identifier\n",
    "            save_path: Local path to save the model\n",
    "            use_auth_token: Whether to use authentication token from environment\n",
    "        \"\"\"\n",
    "        self.model_name = model_name\n",
    "        self.save_path = Path(save_path)\n",
    "        self.use_auth_token = use_auth_token\n",
    "        \n",
    "        # Ensure save directory exists\n",
    "        try:\n",
    "            self.save_path.mkdir(parents=True, exist_ok=True)\n",
    "            logger.info(f\"Initialized downloader for model: {model_name}\")\n",
    "            logger.info(f\"Target directory: {self.save_path}\")\n",
    "        except PermissionError:\n",
    "            logger.error(f\"Permission denied creating directory: {self.save_path}\")\n",
    "            raise\n",
    "        except Exception as e:\n",
    "            logger.error(f\"Failed to create directory {self.save_path}: {e}\")\n",
    "            raise\n",
    "    \n",
    "    def authenticate(self) -> bool:\n",
    "        \"\"\"\n",
    "        Authenticate with Hugging Face using environment token.\n",
    "        \n",
    "        Returns:\n",
    "            bool: True if authentication successful, False otherwise\n",
    "        \"\"\"\n",
    "        try:\n",
    "            # Check for HF_TOKEN in environment\n",
    "            hf_token = os.getenv('HF_TOKEN')\n",
    "            if hf_token:\n",
    "                login(token=hf_token)\n",
    "                logger.info(\"Successfully authenticated using HF_TOKEN from environment\")\n",
    "                return True\n",
    "            else:\n",
    "                logger.warning(\"No HF_TOKEN found in environment\")\n",
    "                logger.info(\"Proceeding without authentication (public models only)\")\n",
    "                return False\n",
    "        except Exception as e:\n",
    "            logger.error(f\"Authentication failed: {e}\")\n",
    "            return False\n",
    "    \n",
    "    def validate_model_exists(self) -> bool:\n",
    "        \"\"\"\n",
    "        Validate that the model exists on Hugging Face Hub.\n",
    "        \n",
    "        Returns:\n",
    "            bool: True if model exists, False otherwise\n",
    "        \"\"\"\n",
    "        try:\n",
    "            # Try to get model config to validate existence\n",
    "            hf_hub_download(\n",
    "                repo_id=self.model_name,\n",
    "                filename=\"config.json\",\n",
    "                cache_dir=None,\n",
    "                local_files_only=False,\n",
    "                token=os.getenv('HF_TOKEN') if self.use_auth_token else None\n",
    "            )\n",
    "            logger.info(f\"Model {self.model_name} validated successfully\")\n",
    "            return True\n",
    "        except Exception as e:\n",
    "            logger.error(f\"Model validation failed: {e}\")\n",
    "            return False\n",
    "    \n",
    "    def download_complete_model(self) -> bool:\n",
    "        \"\"\"\n",
    "        Download the complete model with all files required for fine-tuning.\n",
    "        \n",
    "        Returns:\n",
    "            bool: True if download successful, False otherwise\n",
    "        \"\"\"\n",
    "        try:\n",
    "            logger.info(\"Starting complete model download...\")\n",
    "            \n",
    "            # Download all model files using snapshot_download\n",
    "            downloaded_path = snapshot_download(\n",
    "                repo_id=self.model_name,\n",
    "                cache_dir=None,  # Use default cache\n",
    "                local_dir=str(self.save_path),\n",
    "                local_dir_use_symlinks=False,\n",
    "                revision=\"main\",\n",
    "                resume_download=True,\n",
    "                token=os.getenv('HF_TOKEN') if self.use_auth_token else None\n",
    "            )\n",
    "            \n",
    "            logger.info(f\"Model downloaded successfully to: {downloaded_path}\")\n",
    "            return True\n",
    "            \n",
    "        except Exception as e:\n",
    "            logger.error(f\"Model download failed: {e}\")\n",
    "            return False\n",
    "    \n",
    "    def verify_download(self) -> Dict[str, bool]:\n",
    "        \"\"\"\n",
    "        Verify that all essential files have been downloaded.\n",
    "        \n",
    "        Returns:\n",
    "            Dict[str, bool]: Status of each required file\n",
    "        \"\"\"\n",
    "        required_files = {\n",
    "            'config.json': False,\n",
    "            'preprocessor_config.json': False,\n",
    "        }\n",
    "        \n",
    "        # For ViT models, we need either pytorch_model.bin OR model.safetensors\n",
    "        model_files = ['pytorch_model.bin', 'model.safetensors']\n",
    "        model_file_found = False\n",
    "        \n",
    "        optional_files = {\n",
    "            'tokenizer.json': False,\n",
    "            'tokenizer_config.json': False,\n",
    "            'vocab.txt': False,\n",
    "            'README.md': False\n",
    "        }\n",
    "        \n",
    "        # Check required files\n",
    "        for filename in required_files.keys():\n",
    "            file_path = self.save_path / filename\n",
    "            if file_path.exists():\n",
    "                required_files[filename] = True\n",
    "                logger.info(f\"Required file found: {filename}\")\n",
    "            else:\n",
    "                logger.warning(f\"Required file missing: {filename}\")\n",
    "        \n",
    "        # Check for model files\n",
    "        for filename in model_files:\n",
    "            file_path = self.save_path / filename\n",
    "            if file_path.exists():\n",
    "                model_file_found = True\n",
    "                required_files[filename] = True\n",
    "                logger.info(f\"Model file found: {filename}\")\n",
    "                break\n",
    "        \n",
    "        if not model_file_found:\n",
    "            logger.error(\"No model file found (pytorch_model.bin or model.safetensors)\")\n",
    "        \n",
    "        # Check optional files\n",
    "        for filename in optional_files.keys():\n",
    "            file_path = self.save_path / filename\n",
    "            if file_path.exists():\n",
    "                optional_files[filename] = True\n",
    "                logger.info(f\"Optional file found: {filename}\")\n",
    "        \n",
    "        return {**required_files, **optional_files, 'model_file_found': model_file_found}\n",
    "    \n",
    "    def test_model_loading(self) -> bool:\n",
    "        \"\"\"\n",
    "        Test loading the downloaded model to ensure it's functional.\n",
    "        \n",
    "        Returns:\n",
    "            bool: True if model loads successfully, False otherwise\n",
    "        \"\"\"\n",
    "        try:\n",
    "            logger.info(\"Testing model loading...\")\n",
    "            \n",
    "            # Load configuration\n",
    "            config = ViTConfig.from_pretrained(str(self.save_path))\n",
    "            logger.info(f\"Model config loaded: {config.num_labels} classes\")\n",
    "            \n",
    "            # Load image processor\n",
    "            processor = ViTImageProcessor.from_pretrained(str(self.save_path))\n",
    "            logger.info(\"Image processor loaded successfully\")\n",
    "            \n",
    "            # Load model\n",
    "            model = ViTForImageClassification.from_pretrained(str(self.save_path))\n",
    "            logger.info(f\"Model loaded successfully: {model.__class__.__name__}\")\n",
    "            \n",
    "            # Test model forward pass with dummy input\n",
    "            dummy_input = torch.randn(1, 3, 224, 224)\n",
    "            with torch.no_grad():\n",
    "                outputs = model(dummy_input)\n",
    "                logger.info(f\"Model forward pass successful: output shape {outputs.logits.shape}\")\n",
    "            \n",
    "            return True\n",
    "            \n",
    "        except Exception as e:\n",
    "            logger.error(f\"Model loading test failed: {e}\")\n",
    "            return False\n",
    "    \n",
    "    def save_download_info(self) -> None:\n",
    "        \"\"\"\n",
    "        Save download information and metadata.\n",
    "        \"\"\"\n",
    "        info = {\n",
    "            'model_name': self.model_name,\n",
    "            'download_path': str(self.save_path),\n",
    "            'download_timestamp': datetime.now().isoformat(),\n",
    "            'model_architecture': 'Vision Transformer (ViT)',\n",
    "            'intended_use': 'Image Classification - Fine-tuning Ready',\n",
    "            'framework': 'PyTorch/Transformers'\n",
    "        }\n",
    "        \n",
    "        info_path = self.save_path / 'download_info.json'\n",
    "        try:\n",
    "            with open(info_path, 'w') as f:\n",
    "                json.dump(info, f, indent=2)\n",
    "            logger.info(f\"Download information saved to: {info_path}\")\n",
    "        except Exception as e:\n",
    "            logger.error(f\"Failed to save download info: {e}\")\n",
    "    \n",
    "    def run_complete_download(self) -> bool:\n",
    "        \"\"\"\n",
    "        Execute the complete download process with all validation steps.\n",
    "        \n",
    "        Returns:\n",
    "            bool: True if entire process successful, False otherwise\n",
    "        \"\"\"\n",
    "        logger.info(\"Starting complete model download process...\")\n",
    "        \n",
    "        # Step 1: Authentication\n",
    "        if self.use_auth_token:\n",
    "            self.authenticate()\n",
    "        \n",
    "        # Step 2: Validate model exists\n",
    "        if not self.validate_model_exists():\n",
    "            logger.error(\"Model validation failed. Aborting download.\")\n",
    "            return False\n",
    "        \n",
    "        # Step 3: Download model\n",
    "        if not self.download_complete_model():\n",
    "            logger.error(\"Model download failed. Aborting process.\")\n",
    "            return False\n",
    "        \n",
    "        # Step 4: Verify download\n",
    "        verification_results = self.verify_download()\n",
    "        required_files_present = all([\n",
    "            verification_results.get('config.json', False),\n",
    "            verification_results.get('model_file_found', False)\n",
    "        ])\n",
    "        \n",
    "        if not required_files_present:\n",
    "            logger.error(\"Required files missing after download\")\n",
    "            return False\n",
    "        \n",
    "        # Step 5: Test model loading\n",
    "        if not self.test_model_loading():\n",
    "            logger.error(\"Model loading test failed\")\n",
    "            return False\n",
    "        \n",
    "        # Step 6: Save download info\n",
    "        self.save_download_info()\n",
    "        \n",
    "        logger.info(\"Complete model download process finished successfully\")\n",
    "        logger.info(f\"Model ready for fine-tuning at: {self.save_path}\")\n",
    "        \n",
    "        return True\n",
    "\n",
    "\n",
    "def main():\n",
    "    \"\"\"\n",
    "    Main execution function for downloading the ViT model.\n",
    "    \"\"\"\n",
    "    # Configuration\n",
    "    MODEL_NAME = \"google/vit-base-patch16-224\"\n",
    "    SAVE_PATH = \"/Volumes/KODAK/folder 02/Brest_cancer_prediction/model/raw_model\"\n",
    "    \n",
    "    # Check if save path is accessible\n",
    "    save_path = Path(SAVE_PATH)\n",
    "    if not save_path.parent.exists():\n",
    "        print(f\"ERROR: Parent directory does not exist: {save_path.parent}\")\n",
    "        print(\"Please create the parent directory first or check if the external drive is mounted\")\n",
    "        sys.exit(1)\n",
    "    \n",
    "    try:\n",
    "        # Initialize downloader (set use_auth_token=False for public models)\n",
    "        downloader = HuggingFaceModelDownloader(\n",
    "            model_name=MODEL_NAME,\n",
    "            save_path=SAVE_PATH,\n",
    "            use_auth_token=False  # Changed to False since this is a public model\n",
    "        )\n",
    "        \n",
    "        # Execute download\n",
    "        success = downloader.run_complete_download()\n",
    "        \n",
    "        if success:\n",
    "            print(f\"SUCCESS: Model {MODEL_NAME} downloaded and validated successfully\")\n",
    "            print(f\"Location: {SAVE_PATH}\")\n",
    "            print(\"Model is ready for fine-tuning process\")\n",
    "        else:\n",
    "            print(f\"FAILED: Model download process encountered errors\")\n",
    "            print(\"Please check the logs above for details\")\n",
    "            sys.exit(1)\n",
    "            \n",
    "    except Exception as e:\n",
    "        print(f\"CRITICAL ERROR: {e}\")\n",
    "        sys.exit(1)\n",
    "\n",
    "\n",
    "if __name__ == \"__main__\":\n",
    "    main()"
   ]
  },
  {
   "cell_type": "code",
   "execution_count": null,
   "metadata": {},
   "outputs": [],
   "source": []
  }
 ],
 "metadata": {
  "kernelspec": {
   "display_name": "venv",
   "language": "python",
   "name": "python3"
  },
  "language_info": {
   "codemirror_mode": {
    "name": "ipython",
    "version": 3
   },
   "file_extension": ".py",
   "mimetype": "text/x-python",
   "name": "python",
   "nbconvert_exporter": "python",
   "pygments_lexer": "ipython3",
   "version": "3.12.6"
  }
 },
 "nbformat": 4,
 "nbformat_minor": 2
}
