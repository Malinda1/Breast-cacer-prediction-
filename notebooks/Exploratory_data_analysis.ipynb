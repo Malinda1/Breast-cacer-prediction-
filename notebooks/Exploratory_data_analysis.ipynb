{
 "cells": [
  {
   "cell_type": "markdown",
   "metadata": {},
   "source": [
    "## Exploratory data analysis "
   ]
  },
  {
   "cell_type": "code",
   "execution_count": 1,
   "metadata": {},
   "outputs": [],
   "source": [
    "import pandas as pd \n",
    "import seaborn as sns\n",
    "import matplotlib.pyplot as plt"
   ]
  },
  {
   "cell_type": "code",
   "execution_count": 2,
   "metadata": {},
   "outputs": [],
   "source": [
    "# improting the CSV data file \n",
    "\n",
    "data_01 = pd.read_csv('/Volumes/KODAK/folder 02/Brest_cancer_prediction/data/train.csv')\n",
    "data_02_c = data_01.copy()\n"
   ]
  },
  {
   "cell_type": "code",
   "execution_count": 3,
   "metadata": {},
   "outputs": [
    {
     "data": {
      "text/html": [
       "<div>\n",
       "<style scoped>\n",
       "    .dataframe tbody tr th:only-of-type {\n",
       "        vertical-align: middle;\n",
       "    }\n",
       "\n",
       "    .dataframe tbody tr th {\n",
       "        vertical-align: top;\n",
       "    }\n",
       "\n",
       "    .dataframe thead th {\n",
       "        text-align: right;\n",
       "    }\n",
       "</style>\n",
       "<table border=\"1\" class=\"dataframe\">\n",
       "  <thead>\n",
       "    <tr style=\"text-align: right;\">\n",
       "      <th></th>\n",
       "      <th>site_id</th>\n",
       "      <th>patient_id</th>\n",
       "      <th>image_id</th>\n",
       "      <th>laterality</th>\n",
       "      <th>view</th>\n",
       "      <th>age</th>\n",
       "      <th>cancer</th>\n",
       "      <th>biopsy</th>\n",
       "      <th>invasive</th>\n",
       "      <th>BIRADS</th>\n",
       "      <th>implant</th>\n",
       "      <th>density</th>\n",
       "      <th>machine_id</th>\n",
       "      <th>difficult_negative_case</th>\n",
       "    </tr>\n",
       "  </thead>\n",
       "  <tbody>\n",
       "    <tr>\n",
       "      <th>0</th>\n",
       "      <td>2</td>\n",
       "      <td>10006</td>\n",
       "      <td>462822612</td>\n",
       "      <td>L</td>\n",
       "      <td>CC</td>\n",
       "      <td>61.0</td>\n",
       "      <td>0</td>\n",
       "      <td>0</td>\n",
       "      <td>0</td>\n",
       "      <td>NaN</td>\n",
       "      <td>0</td>\n",
       "      <td>NaN</td>\n",
       "      <td>29</td>\n",
       "      <td>False</td>\n",
       "    </tr>\n",
       "    <tr>\n",
       "      <th>1</th>\n",
       "      <td>2</td>\n",
       "      <td>10006</td>\n",
       "      <td>1459541791</td>\n",
       "      <td>L</td>\n",
       "      <td>MLO</td>\n",
       "      <td>61.0</td>\n",
       "      <td>0</td>\n",
       "      <td>0</td>\n",
       "      <td>0</td>\n",
       "      <td>NaN</td>\n",
       "      <td>0</td>\n",
       "      <td>NaN</td>\n",
       "      <td>29</td>\n",
       "      <td>False</td>\n",
       "    </tr>\n",
       "    <tr>\n",
       "      <th>2</th>\n",
       "      <td>2</td>\n",
       "      <td>10006</td>\n",
       "      <td>1864590858</td>\n",
       "      <td>R</td>\n",
       "      <td>MLO</td>\n",
       "      <td>61.0</td>\n",
       "      <td>0</td>\n",
       "      <td>0</td>\n",
       "      <td>0</td>\n",
       "      <td>NaN</td>\n",
       "      <td>0</td>\n",
       "      <td>NaN</td>\n",
       "      <td>29</td>\n",
       "      <td>False</td>\n",
       "    </tr>\n",
       "    <tr>\n",
       "      <th>3</th>\n",
       "      <td>2</td>\n",
       "      <td>10006</td>\n",
       "      <td>1874946579</td>\n",
       "      <td>R</td>\n",
       "      <td>CC</td>\n",
       "      <td>61.0</td>\n",
       "      <td>0</td>\n",
       "      <td>0</td>\n",
       "      <td>0</td>\n",
       "      <td>NaN</td>\n",
       "      <td>0</td>\n",
       "      <td>NaN</td>\n",
       "      <td>29</td>\n",
       "      <td>False</td>\n",
       "    </tr>\n",
       "    <tr>\n",
       "      <th>4</th>\n",
       "      <td>2</td>\n",
       "      <td>10011</td>\n",
       "      <td>220375232</td>\n",
       "      <td>L</td>\n",
       "      <td>CC</td>\n",
       "      <td>55.0</td>\n",
       "      <td>0</td>\n",
       "      <td>0</td>\n",
       "      <td>0</td>\n",
       "      <td>0.0</td>\n",
       "      <td>0</td>\n",
       "      <td>NaN</td>\n",
       "      <td>21</td>\n",
       "      <td>True</td>\n",
       "    </tr>\n",
       "  </tbody>\n",
       "</table>\n",
       "</div>"
      ],
      "text/plain": [
       "   site_id  patient_id    image_id laterality view   age  cancer  biopsy  \\\n",
       "0        2       10006   462822612          L   CC  61.0       0       0   \n",
       "1        2       10006  1459541791          L  MLO  61.0       0       0   \n",
       "2        2       10006  1864590858          R  MLO  61.0       0       0   \n",
       "3        2       10006  1874946579          R   CC  61.0       0       0   \n",
       "4        2       10011   220375232          L   CC  55.0       0       0   \n",
       "\n",
       "   invasive  BIRADS  implant density  machine_id  difficult_negative_case  \n",
       "0         0     NaN        0     NaN          29                    False  \n",
       "1         0     NaN        0     NaN          29                    False  \n",
       "2         0     NaN        0     NaN          29                    False  \n",
       "3         0     NaN        0     NaN          29                    False  \n",
       "4         0     0.0        0     NaN          21                     True  "
      ]
     },
     "execution_count": 3,
     "metadata": {},
     "output_type": "execute_result"
    }
   ],
   "source": [
    "data_02_c.head()"
   ]
  },
  {
   "cell_type": "code",
   "execution_count": 4,
   "metadata": {},
   "outputs": [
    {
     "name": "stdout",
     "output_type": "stream",
     "text": [
      "Number of rows: 54706\n",
      "Number of columns: 14\n"
     ]
    }
   ],
   "source": [
    "# Get number of columns and rows in the data\n",
    "\n",
    "num_rows, num_cols = data_02_c.shape\n",
    "\n",
    "print(f'Number of rows: {num_rows}')\n",
    "print(f'Number of columns: {num_cols}')"
   ]
  },
  {
   "cell_type": "code",
   "execution_count": 5,
   "metadata": {},
   "outputs": [
    {
     "name": "stdout",
     "output_type": "stream",
     "text": [
      "<class 'pandas.core.frame.DataFrame'>\n",
      "RangeIndex: 54706 entries, 0 to 54705\n",
      "Data columns (total 14 columns):\n",
      " #   Column                   Non-Null Count  Dtype  \n",
      "---  ------                   --------------  -----  \n",
      " 0   site_id                  54706 non-null  int64  \n",
      " 1   patient_id               54706 non-null  int64  \n",
      " 2   image_id                 54706 non-null  int64  \n",
      " 3   laterality               54706 non-null  object \n",
      " 4   view                     54706 non-null  object \n",
      " 5   age                      54669 non-null  float64\n",
      " 6   cancer                   54706 non-null  int64  \n",
      " 7   biopsy                   54706 non-null  int64  \n",
      " 8   invasive                 54706 non-null  int64  \n",
      " 9   BIRADS                   26286 non-null  float64\n",
      " 10  implant                  54706 non-null  int64  \n",
      " 11  density                  29470 non-null  object \n",
      " 12  machine_id               54706 non-null  int64  \n",
      " 13  difficult_negative_case  54706 non-null  bool   \n",
      "dtypes: bool(1), float64(2), int64(8), object(3)\n",
      "memory usage: 5.5+ MB\n",
      "None\n"
     ]
    }
   ],
   "source": [
    "# summary of the data types and non-null columns\n",
    "\n",
    "print(data_02_c.info())"
   ]
  },
  {
   "cell_type": "code",
   "execution_count": 8,
   "metadata": {},
   "outputs": [
    {
     "name": "stdout",
     "output_type": "stream",
     "text": [
      "             site_id    patient_id      image_id laterality   view  \\\n",
      "count   54706.000000  54706.000000  5.470600e+04      54706  54706   \n",
      "unique           NaN           NaN           NaN          2      6   \n",
      "top              NaN           NaN           NaN          R    MLO   \n",
      "freq             NaN           NaN           NaN      27439  27903   \n",
      "mean        1.460407  32698.865262  1.079386e+09        NaN    NaN   \n",
      "std         0.498434  18893.861534  6.183269e+08        NaN    NaN   \n",
      "min         1.000000      5.000000  6.849100e+04        NaN    NaN   \n",
      "25%         1.000000  16481.000000  5.458153e+08        NaN    NaN   \n",
      "50%         1.000000  32432.000000  1.082689e+09        NaN    NaN   \n",
      "75%         2.000000  48999.000000  1.613228e+09        NaN    NaN   \n",
      "max         2.000000  65534.000000  2.147472e+09        NaN    NaN   \n",
      "\n",
      "                 age        cancer        biopsy      invasive        BIRADS  \\\n",
      "count   54669.000000  54706.000000  54706.000000  54706.000000  26286.000000   \n",
      "unique           NaN           NaN           NaN           NaN           NaN   \n",
      "top              NaN           NaN           NaN           NaN           NaN   \n",
      "freq             NaN           NaN           NaN           NaN           NaN   \n",
      "mean       58.543928      0.021168      0.054272      0.014953      0.772350   \n",
      "std        10.050884      0.143944      0.226556      0.121365      0.590062   \n",
      "min        26.000000      0.000000      0.000000      0.000000      0.000000   \n",
      "25%        51.000000      0.000000      0.000000      0.000000      0.000000   \n",
      "50%        59.000000      0.000000      0.000000      0.000000      1.000000   \n",
      "75%        66.000000      0.000000      0.000000      0.000000      1.000000   \n",
      "max        89.000000      1.000000      1.000000      1.000000      2.000000   \n",
      "\n",
      "             implant density    machine_id difficult_negative_case  \n",
      "count   54706.000000   29470  54706.000000                   54706  \n",
      "unique           NaN       4           NaN                       2  \n",
      "top              NaN       B           NaN                   False  \n",
      "freq             NaN   12651           NaN                   47001  \n",
      "mean        0.026999     NaN     54.618378                     NaN  \n",
      "std         0.162081     NaN     44.784800                     NaN  \n",
      "min         0.000000     NaN     21.000000                     NaN  \n",
      "25%         0.000000     NaN     29.000000                     NaN  \n",
      "50%         0.000000     NaN     49.000000                     NaN  \n",
      "75%         0.000000     NaN     49.000000                     NaN  \n",
      "max         1.000000     NaN    216.000000                     NaN  \n"
     ]
    }
   ],
   "source": [
    "# descrptive statistics for numerical columns\n",
    "\n",
    "print(data_02_c.describe(include= 'all'))"
   ]
  },
  {
   "cell_type": "code",
   "execution_count": null,
   "metadata": {},
   "outputs": [],
   "source": []
  }
 ],
 "metadata": {
  "kernelspec": {
   "display_name": "venv",
   "language": "python",
   "name": "python3"
  },
  "language_info": {
   "codemirror_mode": {
    "name": "ipython",
    "version": 3
   },
   "file_extension": ".py",
   "mimetype": "text/x-python",
   "name": "python",
   "nbconvert_exporter": "python",
   "pygments_lexer": "ipython3",
   "version": "3.12.6"
  }
 },
 "nbformat": 4,
 "nbformat_minor": 2
}
